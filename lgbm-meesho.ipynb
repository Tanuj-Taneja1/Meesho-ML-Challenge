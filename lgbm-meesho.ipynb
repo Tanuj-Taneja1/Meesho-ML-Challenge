{
 "cells": [
  {
   "cell_type": "code",
   "execution_count": 1,
   "id": "172a6f2b",
   "metadata": {
    "_cell_guid": "f67075b6-ea39-4635-8cef-4d38af1699d6",
    "_uuid": "3276de4e-6af6-4294-9d5d-d987eb98e391",
    "collapsed": false,
    "execution": {
     "iopub.execute_input": "2024-11-15T14:08:03.614070Z",
     "iopub.status.busy": "2024-11-15T14:08:03.613672Z",
     "iopub.status.idle": "2024-11-15T14:08:04.429937Z",
     "shell.execute_reply": "2024-11-15T14:08:04.428868Z"
    },
    "jupyter": {
     "outputs_hidden": false
    },
    "papermill": {
     "duration": 0.826221,
     "end_time": "2024-11-15T14:08:04.432516",
     "exception": false,
     "start_time": "2024-11-15T14:08:03.606295",
     "status": "completed"
    },
    "tags": []
   },
   "outputs": [],
   "source": [
    "# This Python 3 environment comes with many helpful analytics libraries installed\n",
    "# It is defined by the kaggle/python Docker image: https://github.com/kaggle/docker-python\n",
    "# For example, here's several helpful packages to load\n",
    "\n",
    "import numpy as np # linear algebra\n",
    "import pandas as pd # data processing, CSV file I/O (e.g. pd.read_csv)\n",
    "\n",
    "# Input data files are available in the read-only \"../input/\" directory\n",
    "# For example, running this (by clicking run or pressing Shift+Enter) will list all files under the input directory\n",
    "\n",
    "\n",
    "\n",
    "# You can write up to 20GB to the current directory (/kaggle/working/) that gets preserved as output when you create a version using \"Save & Run All\" \n",
    "# You can also write temporary files to /kaggle/temp/, but they won't be saved outside of the current session"
   ]
  },
  {
   "cell_type": "code",
   "execution_count": 2,
   "id": "73f53b0e",
   "metadata": {
    "_cell_guid": "a33bbefc-44e0-4098-aeba-99a4741481cc",
    "_uuid": "a40f0f97-79c5-4d7a-8ad8-62a8903b20b7",
    "collapsed": false,
    "execution": {
     "iopub.execute_input": "2024-11-15T14:08:04.444864Z",
     "iopub.status.busy": "2024-11-15T14:08:04.444322Z",
     "iopub.status.idle": "2024-11-15T14:08:07.924453Z",
     "shell.execute_reply": "2024-11-15T14:08:07.923500Z"
    },
    "jupyter": {
     "outputs_hidden": false
    },
    "papermill": {
     "duration": 3.488984,
     "end_time": "2024-11-15T14:08:07.926930",
     "exception": false,
     "start_time": "2024-11-15T14:08:04.437946",
     "status": "completed"
    },
    "tags": []
   },
   "outputs": [],
   "source": [
    "import pandas as pd\n",
    "import numpy as np\n",
    "import matplotlib.pyplot as plt\n",
    "import os\n",
    "\n",
    "import seaborn as sns\n",
    "import warnings\n",
    "warnings.filterwarnings('ignore')\n",
    "from  xgboost import XGBClassifier\n",
    "from sklearn.model_selection import train_test_split\n",
    "from sklearn.metrics import accuracy_score,f1_score\n",
    "from sklearn.preprocessing import LabelEncoder\n",
    "from lightgbm import LGBMClassifier\n",
    "from sklearn.ensemble import RandomForestClassifier\n",
    "from catboost import CatBoostClassifier,CatBoostRegressor\n",
    "from xgboost import XGBClassifier,XGBRFClassifier\n",
    "\n",
    "import matplotlib.pyplot as plt\n",
    "from sklearn.metrics import confusion_matrix\n",
    "\n",
    "from sklearn.model_selection import StratifiedKFold\n",
    "from collections import Counter\n",
    "from imblearn.over_sampling import SMOTE"
   ]
  },
  {
   "cell_type": "code",
   "execution_count": 3,
   "id": "09a423eb",
   "metadata": {
    "_cell_guid": "575864ae-ca8e-4be5-a0ff-0a2bb37822b6",
    "_uuid": "f3f2a466-a237-432b-aed3-d04e25c066f9",
    "collapsed": false,
    "execution": {
     "iopub.execute_input": "2024-11-15T14:08:07.939661Z",
     "iopub.status.busy": "2024-11-15T14:08:07.938430Z",
     "iopub.status.idle": "2024-11-15T14:08:07.944590Z",
     "shell.execute_reply": "2024-11-15T14:08:07.943748Z"
    },
    "jupyter": {
     "outputs_hidden": false
    },
    "papermill": {
     "duration": 0.014514,
     "end_time": "2024-11-15T14:08:07.946666",
     "exception": false,
     "start_time": "2024-11-15T14:08:07.932152",
     "status": "completed"
    },
    "tags": []
   },
   "outputs": [],
   "source": [
    "CATEGORIES = {\n",
    "    'Men Tshirts': 5,\n",
    "    'Sarees': 10,\n",
    "    'Kurtis': 9,\n",
    "    'Women Tshirts': 8,\n",
    "    'Women Tops & Tunics': 10\n",
    "}\n",
    "cat_map=dict(zip(CATEGORIES.keys(),range(5)))\n",
    "cat_inv_map=dict(zip(range(5),CATEGORIES.keys()))"
   ]
  },
  {
   "cell_type": "code",
   "execution_count": 4,
   "id": "10f513f1",
   "metadata": {
    "execution": {
     "iopub.execute_input": "2024-11-15T14:08:07.958529Z",
     "iopub.status.busy": "2024-11-15T14:08:07.957828Z",
     "iopub.status.idle": "2024-11-15T14:08:24.840007Z",
     "shell.execute_reply": "2024-11-15T14:08:24.838792Z"
    },
    "papermill": {
     "duration": 16.890988,
     "end_time": "2024-11-15T14:08:24.842786",
     "exception": false,
     "start_time": "2024-11-15T14:08:07.951798",
     "status": "completed"
    },
    "tags": []
   },
   "outputs": [],
   "source": [
    "clip_train=pd.read_csv(\"/kaggle/input/vit-embeddings/train_clip.csv\")\n",
    "clip_test=pd.read_csv(\"/kaggle/input/vit-embeddings/test_clip.csv\")\n",
    "clip_train.columns = [f\"clip_{i}\" for i in range(clip_train.shape[1])]\n",
    "clip_test.columns = [f\"clip_{i}\" for i in range(clip_test.shape[1])]\n"
   ]
  },
  {
   "cell_type": "code",
   "execution_count": 5,
   "id": "8b37bd72",
   "metadata": {
    "execution": {
     "iopub.execute_input": "2024-11-15T14:08:24.854882Z",
     "iopub.status.busy": "2024-11-15T14:08:24.854472Z",
     "iopub.status.idle": "2024-11-15T14:08:43.926907Z",
     "shell.execute_reply": "2024-11-15T14:08:43.925966Z"
    },
    "papermill": {
     "duration": 19.081567,
     "end_time": "2024-11-15T14:08:43.929615",
     "exception": false,
     "start_time": "2024-11-15T14:08:24.848048",
     "status": "completed"
    },
    "tags": []
   },
   "outputs": [],
   "source": [
    "clip_train_ext=pd.read_csv(\"/kaggle/input/clip-embs/train_clip_extreme.csv\")\n",
    "clip_test_ext=pd.read_csv(\"/kaggle/input/clip-embs/test_clip_extreme.csv\")\n",
    "clip_train_ext.columns = [f\"clip_ext_{i}\" for i in range(clip_train_ext.shape[1])]\n",
    "clip_test_ext.columns = [f\"clip_ext_{i}\" for i in range(clip_test_ext.shape[1])]\n"
   ]
  },
  {
   "cell_type": "code",
   "execution_count": 6,
   "id": "46753455",
   "metadata": {
    "execution": {
     "iopub.execute_input": "2024-11-15T14:08:43.943233Z",
     "iopub.status.busy": "2024-11-15T14:08:43.942332Z",
     "iopub.status.idle": "2024-11-15T14:09:00.459159Z",
     "shell.execute_reply": "2024-11-15T14:09:00.458004Z"
    },
    "papermill": {
     "duration": 16.526874,
     "end_time": "2024-11-15T14:09:00.461767",
     "exception": false,
     "start_time": "2024-11-15T14:08:43.934893",
     "status": "completed"
    },
    "tags": []
   },
   "outputs": [],
   "source": [
    "clip_train_neg=pd.read_csv(\"/kaggle/input/clip-embs/train_clip_neg.csv\")\n",
    "clip_test_neg=pd.read_csv(\"/kaggle/input/clip-embs/test_clip_neg.csv\")\n",
    "clip_train_neg.columns = [f\"clip_neg_{i}\" for i in range(clip_train_neg.shape[1])]\n",
    "clip_test_neg.columns = [f\"clip_neg_{i}\" for i in range(clip_test_neg.shape[1])]\n"
   ]
  },
  {
   "cell_type": "code",
   "execution_count": 7,
   "id": "f1542b1b",
   "metadata": {
    "_cell_guid": "33e035b9-fd59-45bc-acc4-ef7a1eb17da9",
    "_uuid": "ca4840cd-d028-4137-87ef-a11002b19b04",
    "collapsed": false,
    "execution": {
     "iopub.execute_input": "2024-11-15T14:09:00.474074Z",
     "iopub.status.busy": "2024-11-15T14:09:00.473656Z",
     "iopub.status.idle": "2024-11-15T14:09:02.863360Z",
     "shell.execute_reply": "2024-11-15T14:09:02.862421Z"
    },
    "jupyter": {
     "outputs_hidden": false
    },
    "papermill": {
     "duration": 2.398834,
     "end_time": "2024-11-15T14:09:02.865925",
     "exception": false,
     "start_time": "2024-11-15T14:09:00.467091",
     "status": "completed"
    },
    "tags": []
   },
   "outputs": [],
   "source": [
    "train_df=pd.read_csv(\"/kaggle/input/meesho-train-pre-pro/pre_processed_train.csv\")\n",
    "test_df=pd.read_csv(\"/kaggle/input/visual-taxonomy/test.csv\")\n",
    "train_df=train_df.drop([\"Unnamed: 0\",\"image_path\",\"ocr_text\"],axis=1)\n",
    "vit_train=np.load(\"/kaggle/input/meesho-augmentation/orignal_train_features.npy\")\n",
    "vit_test=np.load(\"/kaggle/input/meesho-augmentation/orignal_test_features.npy\")\n",
    "\n",
    "vit_train=pd.DataFrame(vit_train,columns=[f\"vit_emb_{i}\" for i in range(vit_train.shape[1])])\n",
    "vit_test=pd.DataFrame(vit_test,columns=[f\"vit_emb_{i}\" for i in range(vit_test.shape[1])])"
   ]
  },
  {
   "cell_type": "code",
   "execution_count": 8,
   "id": "424f3909",
   "metadata": {
    "_cell_guid": "33e035b9-fd59-45bc-acc4-ef7a1eb17da9",
    "_uuid": "ca4840cd-d028-4137-87ef-a11002b19b04",
    "collapsed": false,
    "execution": {
     "iopub.execute_input": "2024-11-15T14:09:02.878264Z",
     "iopub.status.busy": "2024-11-15T14:09:02.877842Z",
     "iopub.status.idle": "2024-11-15T14:09:04.730928Z",
     "shell.execute_reply": "2024-11-15T14:09:04.730034Z"
    },
    "jupyter": {
     "outputs_hidden": false
    },
    "papermill": {
     "duration": 1.86211,
     "end_time": "2024-11-15T14:09:04.733464",
     "exception": false,
     "start_time": "2024-11-15T14:09:02.871354",
     "status": "completed"
    },
    "tags": []
   },
   "outputs": [],
   "source": [
    "vit_black_train=np.load(\"/kaggle/input/meesho-vit-black-and-white/train_features.npy\")\n",
    "vit_black_test=np.load(\"/kaggle/input/meesho-vit-black-and-white/test_features.npy\")\n",
    "vit_black_train=pd.DataFrame(vit_black_train,columns=[f\"vit_black_emb_{i}\" for i in range(vit_black_train.shape[1])])\n",
    "vit_black_test=pd.DataFrame(vit_black_test,columns=[f\"vit_black_emb_{i}\" for i in range(vit_black_test.shape[1])])"
   ]
  },
  {
   "cell_type": "code",
   "execution_count": 9,
   "id": "3207ace3",
   "metadata": {
    "_cell_guid": "33e035b9-fd59-45bc-acc4-ef7a1eb17da9",
    "_uuid": "ca4840cd-d028-4137-87ef-a11002b19b04",
    "collapsed": false,
    "execution": {
     "iopub.execute_input": "2024-11-15T14:09:04.745559Z",
     "iopub.status.busy": "2024-11-15T14:09:04.745116Z",
     "iopub.status.idle": "2024-11-15T14:09:06.760895Z",
     "shell.execute_reply": "2024-11-15T14:09:06.759943Z"
    },
    "jupyter": {
     "outputs_hidden": false
    },
    "papermill": {
     "duration": 2.02491,
     "end_time": "2024-11-15T14:09:06.763582",
     "exception": false,
     "start_time": "2024-11-15T14:09:04.738672",
     "status": "completed"
    },
    "tags": []
   },
   "outputs": [],
   "source": [
    "train_df=pd.concat([train_df,vit_train,clip_train,vit_black_train,clip_train_ext,clip_train_neg],axis=1)\n",
    "test_df=pd.concat([test_df,vit_test,clip_test,vit_black_test,clip_test_ext,clip_test_neg],axis=1)"
   ]
  },
  {
   "cell_type": "code",
   "execution_count": 10,
   "id": "1952e977",
   "metadata": {
    "_cell_guid": "d616f417-9902-4487-acd8-b213ffc53b1c",
    "_uuid": "eaf78190-de42-4196-a88c-2fcf1da2ed86",
    "collapsed": false,
    "execution": {
     "iopub.execute_input": "2024-11-15T14:09:06.775930Z",
     "iopub.status.busy": "2024-11-15T14:09:06.775457Z",
     "iopub.status.idle": "2024-11-15T14:09:06.780427Z",
     "shell.execute_reply": "2024-11-15T14:09:06.779379Z"
    },
    "jupyter": {
     "outputs_hidden": false
    },
    "papermill": {
     "duration": 0.013556,
     "end_time": "2024-11-15T14:09:06.782624",
     "exception": false,
     "start_time": "2024-11-15T14:09:06.769068",
     "status": "completed"
    },
    "tags": []
   },
   "outputs": [],
   "source": [
    "labels=['attr_1', 'attr_2', 'attr_3', 'attr_4', 'attr_5', 'attr_6',\n",
    "       'attr_7', 'attr_8', 'attr_9', 'attr_10']"
   ]
  },
  {
   "cell_type": "code",
   "execution_count": 11,
   "id": "ffc4d1a5",
   "metadata": {
    "_cell_guid": "ad95e34a-cbf9-4888-9d01-660928de88bd",
    "_uuid": "f6d3c65b-d120-48b7-a279-d2ae63df6dc8",
    "collapsed": false,
    "execution": {
     "iopub.execute_input": "2024-11-15T14:09:06.794533Z",
     "iopub.status.busy": "2024-11-15T14:09:06.794129Z",
     "iopub.status.idle": "2024-11-15T14:09:06.811860Z",
     "shell.execute_reply": "2024-11-15T14:09:06.810823Z"
    },
    "jupyter": {
     "outputs_hidden": false
    },
    "papermill": {
     "duration": 0.026492,
     "end_time": "2024-11-15T14:09:06.814341",
     "exception": false,
     "start_time": "2024-11-15T14:09:06.787849",
     "status": "completed"
    },
    "tags": []
   },
   "outputs": [],
   "source": [
    "final_predictions=test_df[[\"id\",\"Category\"]].copy()\n",
    "final_predictions[\"len\"]=test_df.Category.map(CATEGORIES)\n",
    "start = 0\n",
    "end = 10\n",
    "for i in range(start,end):\n",
    "    final_predictions[f\"attr_{i+1}\"]=0"
   ]
  },
  {
   "cell_type": "code",
   "execution_count": 12,
   "id": "9f9a3ef9",
   "metadata": {
    "_cell_guid": "7795e5da-014e-4c65-aafa-7864721bc481",
    "_uuid": "f19d0ac9-4348-4549-92fe-f47bba2abc2c",
    "collapsed": false,
    "execution": {
     "iopub.execute_input": "2024-11-15T14:09:06.826127Z",
     "iopub.status.busy": "2024-11-15T14:09:06.825736Z",
     "iopub.status.idle": "2024-11-15T14:09:06.972649Z",
     "shell.execute_reply": "2024-11-15T14:09:06.971546Z"
    },
    "jupyter": {
     "outputs_hidden": false
    },
    "papermill": {
     "duration": 0.155664,
     "end_time": "2024-11-15T14:09:06.975129",
     "exception": false,
     "start_time": "2024-11-15T14:09:06.819465",
     "status": "completed"
    },
    "tags": []
   },
   "outputs": [],
   "source": [
    "attr_vals=[]\n",
    "attr_dicts=[]\n",
    "for i in range(1,11):\n",
    "    vals=(train_df[f\"attr_{i}\"].dropna().unique())\n",
    "#     vals=(train[col].unique())\n",
    "    attr_vals.append(vals)\n",
    "    attr_dicts.append(dict(zip(vals,range(0,len(vals)))))\n",
    "attr_dicts\n",
    "for i in range(10):\n",
    "    train_df[f\"attr_{i+1}\"]=train_df[f\"attr_{i+1}\"].map(attr_dicts[i])\n",
    "    \n",
    "\n",
    "train_df[\"Category\"]=train_df[\"Category\"].map(cat_map)\n",
    "test_df[\"Category\"]=test_df[\"Category\"].map(cat_map)"
   ]
  },
  {
   "cell_type": "code",
   "execution_count": 13,
   "id": "83327afd",
   "metadata": {
    "_cell_guid": "fe8e0274-1e83-459b-8fc6-63222fa5221b",
    "_uuid": "d5652d58-a4bb-4881-8dee-e79aab82135b",
    "collapsed": false,
    "execution": {
     "iopub.execute_input": "2024-11-15T14:09:06.988069Z",
     "iopub.status.busy": "2024-11-15T14:09:06.987375Z",
     "iopub.status.idle": "2024-11-15T16:38:13.471471Z",
     "shell.execute_reply": "2024-11-15T16:38:13.470253Z"
    },
    "jupyter": {
     "outputs_hidden": false
    },
    "papermill": {
     "duration": 8946.513808,
     "end_time": "2024-11-15T16:38:13.494721",
     "exception": false,
     "start_time": "2024-11-15T14:09:06.980913",
     "status": "completed"
    },
    "tags": []
   },
   "outputs": [
    {
     "name": "stdout",
     "output_type": "stream",
     "text": [
      "Catergory:  Men Tshirts\n",
      "Attribute: attr_1\n",
      "Fold 1 Fold 2 Fold 3 Fold 4 Fold 5 \n",
      "Average F1 macro:  0.7720685752809608\n",
      "Average F1 micro:  0.7675540765391015\n",
      "harmonic mean 0.7698047071782054\n",
      "Attribute: attr_2\n",
      "Fold 1 Fold 2 Fold 3 Fold 4 Fold 5 \n",
      "Average F1 macro:  0.9939782621110347\n",
      "Average F1 micro:  0.9939783145111489\n",
      "harmonic mean 0.9939782883110911\n",
      "Attribute: attr_3\n",
      "Fold 1 Fold 2 Fold 3 Fold 4 Fold 5 \n",
      "Average F1 macro:  0.9711031980554132\n",
      "Average F1 micro:  0.9713342006166356\n",
      "harmonic mean 0.9712186856001421\n",
      "Attribute: attr_4\n",
      "Fold 1 Fold 2 Fold 3 Fold 4 Fold 5 \n",
      "Average F1 macro:  0.8599369426219579\n",
      "Average F1 micro:  0.904186131980126\n",
      "harmonic mean 0.8815065899770588\n",
      "Attribute: attr_5\n",
      "Fold 1 Fold 2 Fold 3 Fold 4 Fold 5 \n",
      "Average F1 macro:  0.975085573269143\n",
      "Average F1 micro:  0.9948140944011419\n",
      "harmonic mean 0.9848510433859526\n",
      "Attribute: attr_6\n",
      "Attribute: attr_7\n",
      "Attribute: attr_8\n",
      "Attribute: attr_9\n",
      "Attribute: attr_10\n",
      "cat_cv:  0.92027186289049\n",
      "Catergory:  Sarees\n",
      "Attribute: attr_1\n",
      "Fold 1 Fold 2 Fold 3 Fold 4 Fold 5 \n",
      "Average F1 macro:  0.7191697926715396\n",
      "Average F1 micro:  0.8892609699769054\n",
      "harmonic mean 0.7952218301969463\n",
      "Attribute: attr_2\n",
      "Fold 1 Fold 2 Fold 3 Fold 4 Fold 5 \n",
      "Average F1 macro:  0.821895919006996\n",
      "Average F1 micro:  0.9104454595369529\n",
      "harmonic mean 0.863907561107635\n",
      "Attribute: attr_3\n",
      "Fold 1 Fold 2 Fold 3 Fold 4 Fold 5 \n",
      "Average F1 macro:  0.9780516583815366\n",
      "Average F1 micro:  0.981148103690933\n",
      "harmonic mean 0.9795974341255779\n",
      "Attribute: attr_4\n",
      "Fold 1 Fold 2 Fold 3 Fold 4 Fold 5 \n",
      "Average F1 macro:  0.6644968502601563\n",
      "Average F1 micro:  0.8900462719771156\n",
      "harmonic mean 0.7609090231777006\n",
      "Attribute: attr_5\n",
      "Fold 1 Fold 2 Fold 3 Fold 4 Fold 5 \n",
      "Average F1 macro:  0.599025900892183\n",
      "Average F1 micro:  0.8514167997466977\n",
      "harmonic mean 0.7032621354547197\n",
      "Attribute: attr_6\n",
      "Fold 1 Fold 2 Fold 3 Fold 4 Fold 5 \n",
      "Average F1 macro:  0.8512789734611068\n",
      "Average F1 micro:  0.9770982839313573\n",
      "harmonic mean 0.9098595169597992\n",
      "Attribute: attr_7\n",
      "Fold 1 Fold 2 Fold 3 Fold 4 Fold 5 \n",
      "Average F1 macro:  0.7381121848396764\n",
      "Average F1 micro:  0.8847467970454211\n",
      "harmonic mean 0.8048048520377707\n",
      "Attribute: attr_8\n",
      "Fold 1 Fold 2 Fold 3 Fold 4 Fold 5 \n",
      "Average F1 macro:  0.6835529617412511\n",
      "Average F1 micro:  0.9075722715724309\n",
      "harmonic mean 0.7797924402664121\n",
      "Attribute: attr_9\n",
      "Fold 1 Fold 2 Fold 3 Fold 4 Fold 5 \n",
      "Average F1 macro:  0.846362278655152\n",
      "Average F1 micro:  0.9577211394302848\n",
      "harmonic mean 0.8986048402846497\n",
      "Attribute: attr_10\n",
      "Fold 1 Fold 2 Fold 3 Fold 4 Fold 5 \n",
      "Average F1 macro:  0.6739035818770891\n",
      "Average F1 micro:  0.9089900110987792\n",
      "harmonic mean 0.773989644140661\n",
      "cat_cv:  0.8269949277751871\n",
      "Catergory:  Kurtis\n",
      "Attribute: attr_1\n",
      "Fold 1 Fold 2 Fold 3 Fold 4 Fold 5 \n",
      "Average F1 macro:  0.7899307226321628\n",
      "Average F1 micro:  0.886407581319901\n",
      "harmonic mean 0.8353929270814775\n",
      "Attribute: attr_2\n",
      "Fold 1 Fold 2 Fold 3 Fold 4 Fold 5 \n",
      "Average F1 macro:  0.8567798001441005\n",
      "Average F1 micro:  0.8697001162785133\n",
      "harmonic mean 0.8631916128562799\n",
      "Attribute: attr_3\n",
      "Fold 1 Fold 2 Fold 3 Fold 4 Fold 5 \n",
      "Average F1 macro:  0.8283903089717258\n",
      "Average F1 micro:  0.8326470588235294\n",
      "harmonic mean 0.8305132294991738\n",
      "Attribute: attr_4\n",
      "Fold 1 Fold 2 Fold 3 Fold 4 Fold 5 \n",
      "Average F1 macro:  0.8234124718826547\n",
      "Average F1 micro:  0.949463168592251\n",
      "harmonic mean 0.8819567450344796\n",
      "Attribute: attr_5\n",
      "Fold 1 Fold 2 Fold 3 Fold 4 Fold 5 \n",
      "Average F1 macro:  0.9378119257901198\n",
      "Average F1 micro:  0.9491764661805547\n",
      "harmonic mean 0.9434599740529619\n",
      "Attribute: attr_6\n",
      "Fold 1 Fold 2 Fold 3 Fold 4 Fold 5 \n",
      "Average F1 macro:  0.9212336001810456\n",
      "Average F1 micro:  0.9215202742640974\n",
      "harmonic mean 0.9213769149238721\n",
      "Attribute: attr_7\n",
      "Fold 1 Fold 2 Fold 3 Fold 4 Fold 5 \n",
      "Average F1 macro:  0.9123037765186369\n",
      "Average F1 micro:  0.9125680672951886\n",
      "harmonic mean 0.9124359027686882\n",
      "Attribute: attr_8\n",
      "Fold 1 Fold 2 Fold 3 Fold 4 Fold 5 \n",
      "Average F1 macro:  0.9419877434011349\n",
      "Average F1 micro:  0.9701589368593275\n",
      "harmonic mean 0.9558658204485426\n",
      "Attribute: attr_9\n",
      "Fold 1 Fold 2 Fold 3 Fold 4 Fold 5 \n",
      "Average F1 macro:  0.9377152499756303\n",
      "Average F1 micro:  0.992228432748264\n",
      "harmonic mean 0.9642019517733017\n",
      "Attribute: attr_10\n",
      "cat_cv:  0.9009327864931974\n",
      "Catergory:  Women Tshirts\n",
      "Attribute: attr_1\n",
      "Fold 1 Fold 2 Fold 3 Fold 4 Fold 5 \n",
      "Average F1 macro:  0.814317797115416\n",
      "Average F1 micro:  0.8287150955280286\n",
      "harmonic mean 0.8214533671823727\n",
      "Attribute: attr_2\n",
      "Fold 1 Fold 2 Fold 3 Fold 4 Fold 5 \n",
      "Average F1 macro:  0.7116009483373043\n",
      "Average F1 micro:  0.8856233463122976\n",
      "harmonic mean 0.78913201510467\n",
      "Attribute: attr_3\n",
      "Fold 1 Fold 2 Fold 3 Fold 4 Fold 5 \n",
      "Average F1 macro:  0.8389907346341261\n",
      "Average F1 micro:  0.8780282536819959\n",
      "harmonic mean 0.8580657227426652\n",
      "Attribute: attr_4\n",
      "Fold 1 Fold 2 Fold 3 Fold 4 Fold 5 \n",
      "Average F1 macro:  0.9063962406828565\n",
      "Average F1 micro:  0.971391573541875\n",
      "harmonic mean 0.9377690746735104\n",
      "Attribute: attr_5\n",
      "Fold 1 Fold 2 Fold 3 Fold 4 Fold 5 \n",
      "Average F1 macro:  0.7682526594990502\n",
      "Average F1 micro:  0.7781553384750034\n",
      "harmonic mean 0.7731722922669927\n",
      "Attribute: attr_6\n",
      "Fold 1 Fold 2 Fold 3 Fold 4 Fold 5 \n",
      "Average F1 macro:  0.8619997814258861\n",
      "Average F1 micro:  0.95705569431998\n",
      "harmonic mean 0.9070441339651345\n",
      "Attribute: attr_7\n",
      "Fold 1 Fold 2 Fold 3 Fold 4 Fold 5 \n",
      "Average F1 macro:  0.9114163674082778\n",
      "Average F1 micro:  0.981772539358138\n",
      "harmonic mean 0.9452871377440377\n",
      "Attribute: attr_8\n",
      "Fold 1 Fold 2 Fold 3 Fold 4 Fold 5 \n",
      "Average F1 macro:  0.5675549647864804\n",
      "Average F1 micro:  0.9707464740282077\n",
      "harmonic mean 0.7163121180049159\n",
      "Attribute: attr_9\n",
      "Attribute: attr_10\n",
      "cat_cv:  0.8435294827105373\n",
      "Catergory:  Women Tops & Tunics\n",
      "Attribute: attr_1\n",
      "Fold 1 Fold 2 Fold 3 Fold 4 Fold 5 \n",
      "Average F1 macro:  0.760426753131329\n",
      "Average F1 micro:  0.796983376118915\n",
      "harmonic mean 0.7782760232765532\n",
      "Attribute: attr_2\n",
      "Fold 1 Fold 2 Fold 3 Fold 4 Fold 5 \n",
      "Average F1 macro:  0.7903697622843623\n",
      "Average F1 micro:  0.8146494525515644\n",
      "harmonic mean 0.8023259637101428\n",
      "Attribute: attr_3\n",
      "Fold 1 Fold 2 Fold 3 Fold 4 Fold 5 \n",
      "Average F1 macro:  0.9056015860926594\n",
      "Average F1 micro:  0.9069343413003841\n",
      "harmonic mean 0.906267473709974\n",
      "Attribute: attr_4\n",
      "Fold 1 Fold 2 Fold 3 Fold 4 Fold 5 \n",
      "Average F1 macro:  0.8364826288966902\n",
      "Average F1 micro:  0.8571852754396797\n",
      "harmonic mean 0.8467074221758569\n",
      "Attribute: attr_5\n",
      "Fold 1 Fold 2 Fold 3 Fold 4 Fold 5 \n",
      "Average F1 macro:  0.7064328113190503\n",
      "Average F1 micro:  0.9863929523518278\n",
      "harmonic mean 0.8232629268166982\n",
      "Attribute: attr_6\n",
      "Fold 1 Fold 2 Fold 3 Fold 4 Fold 5 \n",
      "Average F1 macro:  0.8802222908920994\n",
      "Average F1 micro:  0.945676187434281\n",
      "harmonic mean 0.9117760598699794\n",
      "Attribute: attr_7\n",
      "Fold 1 Fold 2 Fold 3 Fold 4 Fold 5 \n",
      "Average F1 macro:  0.7566410864207955\n",
      "Average F1 micro:  0.8818855847919573\n",
      "harmonic mean 0.8144766621124888\n",
      "Attribute: attr_8\n",
      "Fold 1 Fold 2 Fold 3 Fold 4 Fold 5 \n",
      "Average F1 macro:  0.920995612824821\n",
      "Average F1 micro:  0.9366523787761791\n",
      "harmonic mean 0.9287580160451417\n",
      "Attribute: attr_9\n",
      "Fold 1 Fold 2 Fold 3 Fold 4 Fold 5 \n",
      "Average F1 macro:  0.8774684040365142\n",
      "Average F1 micro:  0.9097931108654359\n",
      "harmonic mean 0.893338442458775\n",
      "Attribute: attr_10\n",
      "Fold 1 Fold 2 Fold 3 Fold 4 Fold 5 \n",
      "Average F1 macro:  0.639593634617428\n",
      "Average F1 micro:  0.7427904195331112\n",
      "harmonic mean 0.6873401393220222\n",
      "cat_cv:  0.8392529129497633\n",
      "final_cv:  0.866196394563835\n"
     ]
    }
   ],
   "source": [
    "from sklearn.model_selection import StratifiedKFold\n",
    "from statistics import mode\n",
    "cat_cv=0\n",
    "\n",
    "for cat in range(5):\n",
    "    print(\"Catergory: \", cat_inv_map[cat])\n",
    "    attr_cv=0\n",
    "    for attr_idx, attr in enumerate(labels[start:end]):\n",
    "        \n",
    "        print(f\"Attribute: {attr}\")\n",
    "        train_df1 = train_df[train_df.Category==cat].dropna(subset=[attr])\n",
    "        if (len(train_df1)==0):\n",
    "            continue\n",
    "            \n",
    "        X = train_df1.drop(labels, axis=1)\n",
    "        X = X.drop([\"len\", \"id\"], axis=1)\n",
    "        y = train_df1[attr]\n",
    "\n",
    "        # Do feature selection once\n",
    "        initial_model = LGBMClassifier(\n",
    "            class_weight=\"balanced\",\n",
    "            n_jobs=4,\n",
    "            verbose=-1,\n",
    "            n_estimators=70,\n",
    "            extra_trees=True,\n",
    "\n",
    "        )\n",
    "        initial_model.fit(X, y)\n",
    "        feature_importance = pd.Series(initial_model.feature_importances_, index=X.columns)\n",
    "        n_features_to_keep = X.shape[1] - 2100  \n",
    "        top_features = feature_importance.nlargest(n_features_to_keep).index\n",
    "        X = X[top_features]        \n",
    "        # Initialize StratifiedKFold\n",
    "        skf = StratifiedKFold(n_splits=5, shuffle=True, random_state=4)\n",
    "        \n",
    "        # For storing all fold predictions\n",
    "        test_predictions = np.zeros((len(test_df[test_df.Category == cat]), 5))\n",
    "        fold_scores_macro = []\n",
    "        fold_scores_micro = []\n",
    "\n",
    "        # Run cross-validation\n",
    "        for fold, (train_idx, val_idx) in enumerate(skf.split(X, y)):\n",
    "            print(f\"Fold {fold+1}\",end=\" \")\n",
    "            \n",
    "            # Split data\n",
    "            x_train, x_val = X.iloc[train_idx], X.iloc[val_idx]\n",
    "            y_train, y_val = y.iloc[train_idx], y.iloc[val_idx]\n",
    "            \n",
    "            # Apply SMOTE\n",
    "#             smote = SMOTE(random_state=42)\n",
    "#             x_train, y_train = smote.fit_resample(x_train, y_train)\n",
    "            \n",
    "            # Train model\n",
    "            model = LGBMClassifier(\n",
    "                class_weight=\"balanced\",\n",
    "                n_jobs=4,\n",
    "                early_stopping_rounds=20,\n",
    "                extra_trees=True,\n",
    "                verbose=-1,\n",
    "            )\n",
    "            model.fit(x_train, y_train, eval_set=[(x_val, y_val)])\n",
    "            \n",
    "            # Evaluate on validation set\n",
    "            val_pred = model.predict(x_val)\n",
    "            fold_scores_macro.append(f1_score(y_val, val_pred, average='macro'))\n",
    "            fold_scores_micro.append(f1_score(y_val, val_pred, average='micro'))\n",
    "            \n",
    "            # Predict on test set\n",
    "            test_data = test_df[test_df.Category == cat].drop(\"id\", axis=1)\n",
    "            test_data = test_data[top_features]\n",
    "            test_predictions[:, fold] = model.predict(test_data)    \n",
    "\n",
    "        # Print scores for all folds\n",
    "        \n",
    "        macro=(np.mean(fold_scores_macro))\n",
    "        micro=(np.mean(fold_scores_micro))\n",
    "        print()\n",
    "        print(f\"Average F1 macro: \", macro)\n",
    "        print(f\"Average F1 micro: \", micro)\n",
    "        hm=((2*macro*micro)/(micro+macro))\n",
    "        print(\"harmonic mean\",hm)\n",
    "        attr_cv+=hm\n",
    "        # Get mode of predictions for each test sample\n",
    "        final_pred = [mode(preds) for preds in test_predictions]\n",
    "        final_predictions.loc[test_df.Category == cat, attr] = final_pred\n",
    "    print(\"cat_cv: \" ,attr_cv/CATEGORIES[cat_inv_map[cat]])\n",
    "    cat_cv+=attr_cv/CATEGORIES[cat_inv_map[cat]]\n",
    "print(\"final_cv: \", cat_cv/5)"
   ]
  },
  {
   "cell_type": "code",
   "execution_count": 14,
   "id": "c1f35eb4",
   "metadata": {
    "_cell_guid": "21a9d4e1-e06c-4c5b-ab66-08e196b460f9",
    "_uuid": "ce2134f6-edf5-4995-bfd6-dfdded4cc0cc",
    "collapsed": false,
    "execution": {
     "iopub.execute_input": "2024-11-15T16:38:13.540581Z",
     "iopub.status.busy": "2024-11-15T16:38:13.540002Z",
     "iopub.status.idle": "2024-11-15T16:38:13.565630Z",
     "shell.execute_reply": "2024-11-15T16:38:13.564543Z"
    },
    "jupyter": {
     "outputs_hidden": false
    },
    "papermill": {
     "duration": 0.051543,
     "end_time": "2024-11-15T16:38:13.567895",
     "exception": false,
     "start_time": "2024-11-15T16:38:13.516352",
     "status": "completed"
    },
    "tags": []
   },
   "outputs": [],
   "source": [
    "for i in range(start,end):\n",
    "    final_predictions[f\"attr_{i+1}\"]=final_predictions[f\"attr_{i+1}\"].map(dict(zip(range(len(attr_vals[i])),attr_vals[i])))"
   ]
  },
  {
   "cell_type": "code",
   "execution_count": 15,
   "id": "507f4f48",
   "metadata": {
    "_cell_guid": "1e7cc968-ca00-41fa-92c2-b8e1fc429fc3",
    "_uuid": "f3ff897f-4bd5-4e04-b10e-a4b7a4eb5856",
    "collapsed": false,
    "execution": {
     "iopub.execute_input": "2024-11-15T16:38:13.609998Z",
     "iopub.status.busy": "2024-11-15T16:38:13.609242Z",
     "iopub.status.idle": "2024-11-15T16:38:13.783902Z",
     "shell.execute_reply": "2024-11-15T16:38:13.782822Z"
    },
    "jupyter": {
     "outputs_hidden": false
    },
    "papermill": {
     "duration": 0.198292,
     "end_time": "2024-11-15T16:38:13.786252",
     "exception": false,
     "start_time": "2024-11-15T16:38:13.587960",
     "status": "completed"
    },
    "tags": []
   },
   "outputs": [],
   "source": [
    "final_predictions.to_csv(f\"sub_{start}_{end}.csv\")"
   ]
  },
  {
   "cell_type": "code",
   "execution_count": null,
   "id": "8f350e75",
   "metadata": {
    "_cell_guid": "9bebaa88-8d89-453f-a7f7-6b98142e6a4e",
    "_uuid": "c2e83443-4a9c-4adb-ba98-9bb4e9fc3448",
    "collapsed": false,
    "jupyter": {
     "outputs_hidden": false
    },
    "papermill": {
     "duration": 0.019934,
     "end_time": "2024-11-15T16:38:13.826173",
     "exception": false,
     "start_time": "2024-11-15T16:38:13.806239",
     "status": "completed"
    },
    "tags": []
   },
   "outputs": [],
   "source": []
  },
  {
   "cell_type": "code",
   "execution_count": null,
   "id": "edb32f94",
   "metadata": {
    "_cell_guid": "4001ffef-42fa-4058-8474-565f0cfe859c",
    "_uuid": "bfe1f243-682d-470a-8dee-1644dac1eb35",
    "collapsed": false,
    "jupyter": {
     "outputs_hidden": false
    },
    "papermill": {
     "duration": 0.019583,
     "end_time": "2024-11-15T16:38:13.865617",
     "exception": false,
     "start_time": "2024-11-15T16:38:13.846034",
     "status": "completed"
    },
    "tags": []
   },
   "outputs": [],
   "source": []
  }
 ],
 "metadata": {
  "kaggle": {
   "accelerator": "none",
   "dataSources": [
    {
     "databundleVersionId": 9755748,
     "sourceId": 84705,
     "sourceType": "competition"
    },
    {
     "datasetId": 6025485,
     "sourceId": 9825715,
     "sourceType": "datasetVersion"
    },
    {
     "datasetId": 6023352,
     "sourceId": 9842205,
     "sourceType": "datasetVersion"
    },
    {
     "datasetId": 6049894,
     "sourceId": 9858321,
     "sourceType": "datasetVersion"
    },
    {
     "datasetId": 6058596,
     "sourceId": 9869855,
     "sourceType": "datasetVersion"
    },
    {
     "datasetId": 6059419,
     "sourceId": 9891413,
     "sourceType": "datasetVersion"
    },
    {
     "datasetId": 6084215,
     "sourceId": 9903738,
     "sourceType": "datasetVersion"
    },
    {
     "datasetId": 6047932,
     "sourceId": 9908325,
     "sourceType": "datasetVersion"
    },
    {
     "datasetId": 6091480,
     "sourceId": 9913297,
     "sourceType": "datasetVersion"
    }
   ],
   "dockerImageVersionId": 30786,
   "isGpuEnabled": false,
   "isInternetEnabled": true,
   "language": "python",
   "sourceType": "notebook"
  },
  "kernelspec": {
   "display_name": "Python 3",
   "language": "python",
   "name": "python3"
  },
  "language_info": {
   "codemirror_mode": {
    "name": "ipython",
    "version": 3
   },
   "file_extension": ".py",
   "mimetype": "text/x-python",
   "name": "python",
   "nbconvert_exporter": "python",
   "pygments_lexer": "ipython3",
   "version": "3.10.14"
  },
  "papermill": {
   "default_parameters": {},
   "duration": 9014.115825,
   "end_time": "2024-11-15T16:38:15.014027",
   "environment_variables": {},
   "exception": null,
   "input_path": "__notebook__.ipynb",
   "output_path": "__notebook__.ipynb",
   "parameters": {},
   "start_time": "2024-11-15T14:08:00.898202",
   "version": "2.6.0"
  }
 },
 "nbformat": 4,
 "nbformat_minor": 5
}
